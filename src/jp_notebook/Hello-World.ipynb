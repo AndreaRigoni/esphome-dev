{
 "cells": [
  {
   "cell_type": "code",
   "execution_count": 1,
   "metadata": {},
   "outputs": [],
   "source": [
    "import sys,os"
   ]
  },
  {
   "cell_type": "code",
   "execution_count": 7,
   "metadata": {},
   "outputs": [
    {
     "name": "stdout",
     "output_type": "stream",
     "text": [
      "/home/andrea/devel/utils/autoconf-bootstrap/build/../src/jp_notebook\n",
      "/home/andrea/devel/utils/autoconf-bootstrap/build/..\n",
      "/home/andrea/devel/utils/autoconf-bootstrap/build/..\n",
      ".\n",
      "../..\n",
      "/home/andrea/devel/utils/autoconf-bootstrap/build\n"
     ]
    }
   ],
   "source": [
    "print(os.environ['srcdir'])\n",
    "print(os.environ['top_srcdir'])\n",
    "print(os.environ['abs_top_srcdir'])\n",
    "print(os.environ['builddir'])\n",
    "print(os.environ['top_builddir'])\n",
    "print(os.environ['abs_top_builddir'])"
   ]
  }
 ],
 "metadata": {
  "kernelspec": {
   "display_name": "Python 3",
   "language": "python",
   "name": "python3"
  },
  "language_info": {
   "codemirror_mode": {
    "name": "ipython",
    "version": 3
   },
   "file_extension": ".py",
   "mimetype": "text/x-python",
   "name": "python",
   "nbconvert_exporter": "python",
   "pygments_lexer": "ipython3",
   "version": "3.8.3"
  }
 },
 "nbformat": 4,
 "nbformat_minor": 4
}
